{
 "cells": [
  {
   "cell_type": "markdown",
   "metadata": {},
   "source": [
    "### Week 3 - Markov Chains 3"
   ]
  },
  {
   "cell_type": "code",
   "execution_count": 1,
   "metadata": {},
   "outputs": [
    {
     "name": "stdout",
     "output_type": "stream",
     "text": [
      "----------- 4.4.2 --------------\n",
      "Communicating states for P:\n",
      "\n",
      "{(0, 7), (0, 4), (2, 1), (6, 5), (4, 3), (5, 4), (7, 6), (1, 0), (3, 2)}\n",
      "P_n[0,0] = 0.5 at n = 5\n",
      "P_lim[0,0] = 0.14491449144914523\n",
      "Mean times:\n",
      "[[5.90062112]\n",
      " [5.34161491]\n",
      " [4.9068323 ]]\n",
      "Latex code for nu:\n",
      "\\begin{bmatrix}\n",
      "    5.90\\\\\n",
      "    5.34\\\\\n",
      "    4.91\n",
      "\\end{bmatrix}\n",
      "Limiting distribution for P:\n",
      "[0.14491449 0.4140414  0.2880288  0.1530153 ]\n"
     ]
    }
   ],
   "source": [
    "import numpy as np\n",
    "from functions import get_communicating_states, get_limiting_distribution\n",
    "import array_to_latex as a2l\n",
    "\n",
    "\n",
    "print(\"----------- 4.4.2 --------------\")\n",
    "\n",
    "P = np.array([\n",
    "     [0, 1, 0, 0, 0, 0, 0, 0],\n",
    "     [0, 0, 1, 0, 0, 0, 0, 0],\n",
    "     [0, 0, 0, 1, 0, 0, 0, 0],\n",
    "     [0, 0, 0, 0, 1, 0, 0, 0],\n",
    "     [0.5, 0, 0, 0, 0, 0.5, 0, 0],\n",
    "     [0, 0, 0, 0, 0, 0, 1, 0],\n",
    "     [0, 0, 0, 0, 0, 0, 0, 1],\n",
    "     [1, 0, 0, 0, 0, 0, 0, 0] ])\n",
    "\n",
    "print(f\"Communicating states for P:\\n\\n{get_communicating_states(P)}\")\n",
    "\n",
    "for n in range(1,20):\n",
    "    P_n = np.linalg.matrix_power(P, n)\n",
    "    if P_n[0,0]>0:\n",
    "        print(f\"P_n[0,0] = {P_n[0,0]} at n = {n}\")\n",
    "        break\n",
    "\n",
    "\n",
    "P = np.array([\n",
    "    [0, 1, 0, 0],\n",
    "    [0.1, 0.4, 0.2, 0.3],\n",
    "    [0.2, 0.2, 0.5, 0.1],\n",
    "    [0.3, 0.3, 0.4, 0]\n",
    "])\n",
    "\n",
    "P_lim = np.linalg.matrix_power(P, 100)\n",
    "print(f\"P_lim[0,0] = {P_lim[0,0]}\")\n",
    "\n",
    "A = P[1:, 1:]\n",
    "x = np.ones((3, 1))\n",
    "nu = np.matmul(np.linalg.inv(np.eye(3)-A), x)\n",
    "print(f\"Mean times:\\n{nu}\")\n",
    "latex_code = a2l.to_ltx(nu, frmt = '{:6.2f}', arraytype = 'bmatrix', print_out=False)\n",
    "print(f\"Latex code for nu:\\n{latex_code}\")\n",
    "\n",
    "lim_P = get_limiting_distribution(P)\n",
    "print(f\"Limiting distribution for P:\\n{lim_P}\")\n",
    "latex_code = a2l.to_ltx(lim_P, frmt = '{:6.2f}', arraytype = 'bmatrix', print_out=False)\n",
    "print(f\"Latex code for lim_P:\\n{latex_code}\")"
   ]
  }
 ],
 "metadata": {
  "kernelspec": {
   "display_name": "deepl",
   "language": "python",
   "name": "python3"
  },
  "language_info": {
   "codemirror_mode": {
    "name": "ipython",
    "version": 3
   },
   "file_extension": ".py",
   "mimetype": "text/x-python",
   "name": "python",
   "nbconvert_exporter": "python",
   "pygments_lexer": "ipython3",
   "version": "3.12.2"
  }
 },
 "nbformat": 4,
 "nbformat_minor": 2
}
