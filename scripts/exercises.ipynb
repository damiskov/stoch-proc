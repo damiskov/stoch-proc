{
 "cells": [
  {
   "cell_type": "markdown",
   "metadata": {},
   "source": [
    "### Week 1 - Markov Chains 1"
   ]
  },
  {
   "cell_type": "markdown",
   "metadata": {},
   "source": [
    "#### Problem 3.2.1"
   ]
  },
  {
   "cell_type": "code",
   "execution_count": 2,
   "metadata": {},
   "outputs": [
    {
     "name": "stdout",
     "output_type": "stream",
     "text": [
      "Latex code for P:\n",
      "\\begin{bmatrix}\n",
      "    0.40 &    0.30 &    0.20 &    0.10\\\\\n",
      "    0.10 &    0.40 &    0.30 &    0.20\\\\\n",
      "    0.30 &    0.20 &    0.10 &    0.40\\\\\n",
      "    0.20 &    0.10 &    0.40 &    0.30\n",
      "\\end{bmatrix}\n",
      "1.0\n",
      "1.0\n",
      "1.0\n",
      "1.0000000000000002\n",
      "1.0000000000000002\n",
      "1.0000000000000002\n",
      "1.0000000000000004\n",
      "1.0000000000000002\n",
      "1.0000000000000004\n",
      "Limiting distribution of P:\n",
      "[0.27 0.29 0.23 0.21]\n"
     ]
    }
   ],
   "source": [
    "import numpy as np\n",
    "from functions import get_limiting_distribution\n",
    "import array_to_latex as a2l\n",
    "\n",
    "P = np.array([\n",
    "    [0.4, 0.3, 0.2, 0.1],\n",
    "    [0.1, 0.4, 0.3, 0.2],\n",
    "    [0.3, 0.2, 0.1, 0.4],\n",
    "    [0.2, 0.1, 0.4, 0.3]\n",
    "])\n",
    "\n",
    "latex_code = a2l.to_ltx(P, frmt = '{:6.2f}', arraytype = 'bmatrix', print_out=False)\n",
    "print(f\"Latex code for P:\\n{latex_code}\")\n",
    "\n",
    "for n in range(1, 10):\n",
    "    print(sum(np.linalg.matrix_power(P, n)[:, 0]))\n",
    "\n",
    "P_lim = get_limiting_distribution(P, 2)\n",
    "print(f\"Limiting distribution of P:\\n{P_lim}\")"
   ]
  },
  {
   "cell_type": "markdown",
   "metadata": {},
   "source": [
    "### Problem 3.2.5"
   ]
  },
  {
   "cell_type": "code",
   "execution_count": 11,
   "metadata": {},
   "outputs": [
    {
     "name": "stdout",
     "output_type": "stream",
     "text": [
      "P^3_00 = 0.45699999999999996\n",
      "P^3_01 = 0.22999999999999998\n",
      "Ans = 0.6652110625909753\n"
     ]
    }
   ],
   "source": [
    "import numpy as np\n",
    "\n",
    "P = np.array([[0.7, 0.2, 0.1],\n",
    "            [0.3,0.5,0.2],\n",
    "            [0, 0, 1]])\n",
    "p1, p2 = np.linalg.matrix_power(P, 3)[0,0], np.linalg.matrix_power(P, 3)[0,1]\n",
    "print(f\"P^3_00 = {p1}\")\n",
    "print(f\"P^3_01 = {p2}\")\n",
    "print(f\"Ans = {p1/(p1+p2)}\")"
   ]
  },
  {
   "cell_type": "markdown",
   "metadata": {},
   "source": [
    "### Problem 3.4.4"
   ]
  },
  {
   "cell_type": "code",
   "execution_count": 7,
   "metadata": {},
   "outputs": [
    {
     "data": {
      "text/plain": [
       "True"
      ]
     },
     "execution_count": 7,
     "metadata": {},
     "output_type": "execute_result"
    }
   ],
   "source": [
    "round((0.1+0.2*0.2/0.7)/(0.8-0.2*0.2/0.7), 3)==round(11/52, 3)"
   ]
  },
  {
   "cell_type": "markdown",
   "metadata": {},
   "source": [
    "### Week 3 - Markov Chains 3"
   ]
  },
  {
   "cell_type": "code",
   "execution_count": 3,
   "metadata": {},
   "outputs": [
    {
     "name": "stdout",
     "output_type": "stream",
     "text": [
      "----------- 4.4.2 --------------\n",
      "Communicating states for P:\n",
      "\n",
      "{(0, 7), (0, 4), (2, 1), (6, 5), (4, 3), (5, 4), (7, 6), (1, 0), (3, 2)}\n",
      "P_n[0,0] = 0.5 at n = 5\n",
      "P_lim[0,0] = 0.14491449144914523\n",
      "Mean times:\n",
      "[[5.90062112]\n",
      " [5.34161491]\n",
      " [4.9068323 ]]\n",
      "Latex code for nu:\n",
      "\\begin{bmatrix}\n",
      "    5.90\\\\\n",
      "    5.34\\\\\n",
      "    4.91\n",
      "\\end{bmatrix}\n",
      "Limiting distribution for P:\n",
      "[0.14491449 0.4140414  0.2880288  0.1530153 ]\n",
      "Latex code for lim_P:\n",
      "\\begin{bmatrix}\n",
      "    0.14 &    0.41 &    0.29 &    0.15\n",
      "\\end{bmatrix}\n",
      "1/6.90 = 0.14\n"
     ]
    }
   ],
   "source": [
    "import numpy as np\n",
    "from functions import get_communicating_states, get_limiting_distribution\n",
    "import array_to_latex as a2l\n",
    "\n",
    "\n",
    "print(\"----------- 4.4.2 --------------\")\n",
    "\n",
    "P = np.array([\n",
    "     [0, 1, 0, 0, 0, 0, 0, 0],\n",
    "     [0, 0, 1, 0, 0, 0, 0, 0],\n",
    "     [0, 0, 0, 1, 0, 0, 0, 0],\n",
    "     [0, 0, 0, 0, 1, 0, 0, 0],\n",
    "     [0.5, 0, 0, 0, 0, 0.5, 0, 0],\n",
    "     [0, 0, 0, 0, 0, 0, 1, 0],\n",
    "     [0, 0, 0, 0, 0, 0, 0, 1],\n",
    "     [1, 0, 0, 0, 0, 0, 0, 0] ])\n",
    "\n",
    "print(f\"Communicating states for P:\\n\\n{get_communicating_states(P)}\")\n",
    "\n",
    "for n in range(1,20):\n",
    "    P_n = np.linalg.matrix_power(P, n)\n",
    "    if P_n[0,0]>0:\n",
    "        print(f\"P_n[0,0] = {P_n[0,0]} at n = {n}\")\n",
    "        break\n",
    "\n",
    "\n",
    "P = np.array([\n",
    "    [0, 1, 0, 0],\n",
    "    [0.1, 0.4, 0.2, 0.3],\n",
    "    [0.2, 0.2, 0.5, 0.1],\n",
    "    [0.3, 0.3, 0.4, 0]\n",
    "])\n",
    "\n",
    "P_lim = np.linalg.matrix_power(P, 100)\n",
    "print(f\"P_lim[0,0] = {P_lim[0,0]}\")\n",
    "\n",
    "A = P[1:, 1:]\n",
    "x = np.ones((3, 1))\n",
    "nu = np.matmul(np.linalg.inv(np.eye(3)-A), x)\n",
    "print(f\"Mean times:\\n{nu}\")\n",
    "latex_code = a2l.to_ltx(nu, frmt = '{:6.2f}', arraytype = 'bmatrix', print_out=False)\n",
    "print(f\"Latex code for nu:\\n{latex_code}\")\n",
    "\n",
    "lim_P = get_limiting_distribution(P)\n",
    "print(f\"Limiting distribution for P:\\n{lim_P}\")\n",
    "latex_code = a2l.to_ltx(lim_P, frmt = '{:6.2f}', arraytype = 'bmatrix', print_out=False)\n",
    "print(f\"Latex code for lim_P:\\n{latex_code}\")\n",
    "print(f\"1/6.90 = {round(1/6.90, 2)}\")"
   ]
  },
  {
   "cell_type": "markdown",
   "metadata": {},
   "source": [
    "### Week 4 - Poisson Distribution"
   ]
  },
  {
   "cell_type": "markdown",
   "metadata": {},
   "source": [
    "#### Exercises"
   ]
  },
  {
   "cell_type": "markdown",
   "metadata": {},
   "source": [
    "##### 5.1.1"
   ]
  },
  {
   "cell_type": "code",
   "execution_count": 3,
   "metadata": {},
   "outputs": [
    {
     "name": "stdout",
     "output_type": "stream",
     "text": [
      "a) 0.1353352832366127\n",
      "b) 0.1353352832366127\n"
     ]
    }
   ],
   "source": [
    "import numpy as np\n",
    "\n",
    "a = np.exp(-2)\n",
    "b = np.exp(-2)\n",
    "print(f\"a) {a}\\nb) {b}\")"
   ]
  },
  {
   "cell_type": "markdown",
   "metadata": {},
   "source": [
    "##### 5.3.2"
   ]
  },
  {
   "cell_type": "code",
   "execution_count": 4,
   "metadata": {},
   "outputs": [
    {
     "name": "stdout",
     "output_type": "stream",
     "text": [
      "a) 0.002433352246903874\n"
     ]
    }
   ],
   "source": [
    "import numpy as np\n",
    "\n",
    "a = np.exp(-6) - np.exp(-10)\n",
    "print(f\"a) {a}\")\n",
    "b = 4*np.exp(-4)\n",
    "print(f\"b) {b}\")"
   ]
  }
 ],
 "metadata": {
  "kernelspec": {
   "display_name": "deepl",
   "language": "python",
   "name": "python3"
  },
  "language_info": {
   "codemirror_mode": {
    "name": "ipython",
    "version": 3
   },
   "file_extension": ".py",
   "mimetype": "text/x-python",
   "name": "python",
   "nbconvert_exporter": "python",
   "pygments_lexer": "ipython3",
   "version": "3.12.2"
  }
 },
 "nbformat": 4,
 "nbformat_minor": 2
}
